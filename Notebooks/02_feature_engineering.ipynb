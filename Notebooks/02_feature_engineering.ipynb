{
 "cells": [
  {
   "cell_type": "code",
   "execution_count": null,
   "id": "df4dc9e3",
   "metadata": {},
   "outputs": [],
   "source": [
    "# Importing usefull libraries\n",
    "import pandas as pd\n",
    "import matplotlib.pyplot as plt\n",
    "import seaborn as sns\n"
   ]
  },
  {
   "cell_type": "code",
   "execution_count": 3,
   "id": "350274d0",
   "metadata": {},
   "outputs": [],
   "source": [
    "austria_df = pd.read_csv(f'../data/Processed/time_series_processed_1.csv')"
   ]
  },
  {
   "cell_type": "markdown",
   "id": "519bad71",
   "metadata": {},
   "source": [
    "### Generating more features for better analysis\n",
    "1. t-1 gives short-term momentum.\n",
    "2. t-24 captures daily cycles."
   ]
  },
  {
   "cell_type": "code",
   "execution_count": 8,
   "id": "b1db96a1",
   "metadata": {},
   "outputs": [],
   "source": [
    "# Refrence https://medium.com/data-science-at-microsoft/introduction-to-feature-engineering-for-time-series-forecasting-620aa55fcab0"
   ]
  },
  {
   "cell_type": "code",
   "execution_count": 6,
   "id": "b595d0a7",
   "metadata": {},
   "outputs": [],
   "source": [
    "austria_df['load_t-1'] = austria_df['load_actual'].shift(1)     # 1 hour ago\n",
    "austria_df['load_t-24'] = austria_df['load_actual'].shift(24)   # 24 hours ago\n",
    "\n",
    "# Optional: Add rolling average\n",
    "austria_df['load_rolling_24h'] = austria_df['load_actual'].rolling(window=24).mean()"
   ]
  },
  {
   "cell_type": "code",
   "execution_count": 7,
   "id": "d663fb35",
   "metadata": {},
   "outputs": [
    {
     "name": "stderr",
     "output_type": "stream",
     "text": [
      "C:\\Users\\rande\\AppData\\Local\\Temp\\ipykernel_10736\\1861709718.py:1: FutureWarning: DataFrame.fillna with 'method' is deprecated and will raise in a future version. Use obj.ffill() or obj.bfill() instead.\n",
      "  austria_df.fillna(method='ffill', inplace=True)\n",
      "C:\\Users\\rande\\AppData\\Local\\Temp\\ipykernel_10736\\1861709718.py:2: FutureWarning: DataFrame.fillna with 'method' is deprecated and will raise in a future version. Use obj.ffill() or obj.bfill() instead.\n",
      "  austria_df.fillna(method='bfill', inplace=True)\n"
     ]
    },
    {
     "data": {
      "text/html": [
       "<div>\n",
       "<style scoped>\n",
       "    .dataframe tbody tr th:only-of-type {\n",
       "        vertical-align: middle;\n",
       "    }\n",
       "\n",
       "    .dataframe tbody tr th {\n",
       "        vertical-align: top;\n",
       "    }\n",
       "\n",
       "    .dataframe thead th {\n",
       "        text-align: right;\n",
       "    }\n",
       "</style>\n",
       "<table border=\"1\" class=\"dataframe\">\n",
       "  <thead>\n",
       "    <tr style=\"text-align: right;\">\n",
       "      <th></th>\n",
       "      <th>utc_timestamp</th>\n",
       "      <th>load_actual</th>\n",
       "      <th>load_forecast</th>\n",
       "      <th>price</th>\n",
       "      <th>solar_generation</th>\n",
       "      <th>Wind_generation</th>\n",
       "      <th>Weekday</th>\n",
       "      <th>Hour</th>\n",
       "      <th>Month</th>\n",
       "      <th>load_t-1</th>\n",
       "      <th>load_t-24</th>\n",
       "      <th>load_rolling_24h</th>\n",
       "    </tr>\n",
       "  </thead>\n",
       "  <tbody>\n",
       "    <tr>\n",
       "      <th>0</th>\n",
       "      <td>2015-02-01 00:00:00+00:00</td>\n",
       "      <td>6241.0</td>\n",
       "      <td>6186.0</td>\n",
       "      <td>25.0</td>\n",
       "      <td>0.0</td>\n",
       "      <td>131.0</td>\n",
       "      <td>Sunday</td>\n",
       "      <td>0</td>\n",
       "      <td>February</td>\n",
       "      <td>6241.0</td>\n",
       "      <td>6241.0</td>\n",
       "      <td>6967.625</td>\n",
       "    </tr>\n",
       "    <tr>\n",
       "      <th>1</th>\n",
       "      <td>2015-02-01 01:00:00+00:00</td>\n",
       "      <td>6126.0</td>\n",
       "      <td>6111.0</td>\n",
       "      <td>24.0</td>\n",
       "      <td>0.0</td>\n",
       "      <td>119.0</td>\n",
       "      <td>Sunday</td>\n",
       "      <td>1</td>\n",
       "      <td>February</td>\n",
       "      <td>6241.0</td>\n",
       "      <td>6241.0</td>\n",
       "      <td>6967.625</td>\n",
       "    </tr>\n",
       "    <tr>\n",
       "      <th>2</th>\n",
       "      <td>2015-02-01 02:00:00+00:00</td>\n",
       "      <td>5983.0</td>\n",
       "      <td>6019.0</td>\n",
       "      <td>24.0</td>\n",
       "      <td>0.0</td>\n",
       "      <td>89.0</td>\n",
       "      <td>Sunday</td>\n",
       "      <td>2</td>\n",
       "      <td>February</td>\n",
       "      <td>6126.0</td>\n",
       "      <td>6241.0</td>\n",
       "      <td>6967.625</td>\n",
       "    </tr>\n",
       "    <tr>\n",
       "      <th>3</th>\n",
       "      <td>2015-02-01 03:00:00+00:00</td>\n",
       "      <td>5966.0</td>\n",
       "      <td>6027.0</td>\n",
       "      <td>24.0</td>\n",
       "      <td>0.0</td>\n",
       "      <td>56.0</td>\n",
       "      <td>Sunday</td>\n",
       "      <td>3</td>\n",
       "      <td>February</td>\n",
       "      <td>5983.0</td>\n",
       "      <td>6241.0</td>\n",
       "      <td>6967.625</td>\n",
       "    </tr>\n",
       "    <tr>\n",
       "      <th>4</th>\n",
       "      <td>2015-02-01 04:00:00+00:00</td>\n",
       "      <td>6004.0</td>\n",
       "      <td>6247.0</td>\n",
       "      <td>24.0</td>\n",
       "      <td>0.0</td>\n",
       "      <td>56.0</td>\n",
       "      <td>Sunday</td>\n",
       "      <td>4</td>\n",
       "      <td>February</td>\n",
       "      <td>5966.0</td>\n",
       "      <td>6241.0</td>\n",
       "      <td>6967.625</td>\n",
       "    </tr>\n",
       "  </tbody>\n",
       "</table>\n",
       "</div>"
      ],
      "text/plain": [
       "               utc_timestamp  load_actual  load_forecast  price  \\\n",
       "0  2015-02-01 00:00:00+00:00       6241.0         6186.0   25.0   \n",
       "1  2015-02-01 01:00:00+00:00       6126.0         6111.0   24.0   \n",
       "2  2015-02-01 02:00:00+00:00       5983.0         6019.0   24.0   \n",
       "3  2015-02-01 03:00:00+00:00       5966.0         6027.0   24.0   \n",
       "4  2015-02-01 04:00:00+00:00       6004.0         6247.0   24.0   \n",
       "\n",
       "   solar_generation  Wind_generation Weekday  Hour     Month  load_t-1  \\\n",
       "0               0.0            131.0  Sunday     0  February    6241.0   \n",
       "1               0.0            119.0  Sunday     1  February    6241.0   \n",
       "2               0.0             89.0  Sunday     2  February    6126.0   \n",
       "3               0.0             56.0  Sunday     3  February    5983.0   \n",
       "4               0.0             56.0  Sunday     4  February    5966.0   \n",
       "\n",
       "   load_t-24  load_rolling_24h  \n",
       "0     6241.0          6967.625  \n",
       "1     6241.0          6967.625  \n",
       "2     6241.0          6967.625  \n",
       "3     6241.0          6967.625  \n",
       "4     6241.0          6967.625  "
      ]
     },
     "execution_count": 7,
     "metadata": {},
     "output_type": "execute_result"
    }
   ],
   "source": [
    "austria_df.fillna(method='ffill', inplace=True)\n",
    "austria_df.fillna(method='bfill', inplace=True)\n",
    "austria_df.head()"
   ]
  },
  {
   "cell_type": "code",
   "execution_count": null,
   "id": "ddd070d9",
   "metadata": {},
   "outputs": [],
   "source": []
  }
 ],
 "metadata": {
  "kernelspec": {
   "display_name": "base",
   "language": "python",
   "name": "python3"
  },
  "language_info": {
   "codemirror_mode": {
    "name": "ipython",
    "version": 3
   },
   "file_extension": ".py",
   "mimetype": "text/x-python",
   "name": "python",
   "nbconvert_exporter": "python",
   "pygments_lexer": "ipython3",
   "version": "3.11.7"
  }
 },
 "nbformat": 4,
 "nbformat_minor": 5
}
