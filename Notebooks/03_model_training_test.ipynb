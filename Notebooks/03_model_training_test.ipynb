{
 "cells": [
  {
   "cell_type": "code",
   "execution_count": 60,
   "id": "06292a44",
   "metadata": {},
   "outputs": [],
   "source": [
    "import pandas as pd\n",
    "import numpy as np\n",
    "import matplotlib.pyplot as plt\n",
    "import seaborn as snsfrom \n",
    "from sklearn.ensemble import GradientBoostingRegressor\n",
    "from sklearn.metrics import mean_squared_error, r2_score\n",
    "import joblib"
   ]
  },
  {
   "cell_type": "code",
   "execution_count": 81,
   "id": "4d500961",
   "metadata": {},
   "outputs": [
    {
     "data": {
      "text/html": [
       "<div>\n",
       "<style scoped>\n",
       "    .dataframe tbody tr th:only-of-type {\n",
       "        vertical-align: middle;\n",
       "    }\n",
       "\n",
       "    .dataframe tbody tr th {\n",
       "        vertical-align: top;\n",
       "    }\n",
       "\n",
       "    .dataframe thead th {\n",
       "        text-align: right;\n",
       "    }\n",
       "</style>\n",
       "<table border=\"1\" class=\"dataframe\">\n",
       "  <thead>\n",
       "    <tr style=\"text-align: right;\">\n",
       "      <th></th>\n",
       "      <th>Unnamed: 0</th>\n",
       "      <th>load_actual</th>\n",
       "      <th>load_forecast</th>\n",
       "      <th>price</th>\n",
       "      <th>solar_generation</th>\n",
       "      <th>Wind_generation</th>\n",
       "      <th>Weekday</th>\n",
       "      <th>Hour</th>\n",
       "      <th>Month</th>\n",
       "      <th>load_t-1</th>\n",
       "      <th>load_t-24</th>\n",
       "      <th>load_rolling_24h</th>\n",
       "    </tr>\n",
       "    <tr>\n",
       "      <th>utc_timestamp</th>\n",
       "      <th></th>\n",
       "      <th></th>\n",
       "      <th></th>\n",
       "      <th></th>\n",
       "      <th></th>\n",
       "      <th></th>\n",
       "      <th></th>\n",
       "      <th></th>\n",
       "      <th></th>\n",
       "      <th></th>\n",
       "      <th></th>\n",
       "      <th></th>\n",
       "    </tr>\n",
       "  </thead>\n",
       "  <tbody>\n",
       "    <tr>\n",
       "      <th>2015-02-01 00:00:00+00:00</th>\n",
       "      <td>0</td>\n",
       "      <td>6241.0</td>\n",
       "      <td>6186.0</td>\n",
       "      <td>25.0</td>\n",
       "      <td>0.0</td>\n",
       "      <td>131.0</td>\n",
       "      <td>Sunday</td>\n",
       "      <td>0</td>\n",
       "      <td>February</td>\n",
       "      <td>6241.0</td>\n",
       "      <td>6241.0</td>\n",
       "      <td>6967.625000</td>\n",
       "    </tr>\n",
       "    <tr>\n",
       "      <th>2015-02-01 01:00:00+00:00</th>\n",
       "      <td>1</td>\n",
       "      <td>6126.0</td>\n",
       "      <td>6111.0</td>\n",
       "      <td>24.0</td>\n",
       "      <td>0.0</td>\n",
       "      <td>119.0</td>\n",
       "      <td>Sunday</td>\n",
       "      <td>1</td>\n",
       "      <td>February</td>\n",
       "      <td>6241.0</td>\n",
       "      <td>6241.0</td>\n",
       "      <td>6967.625000</td>\n",
       "    </tr>\n",
       "    <tr>\n",
       "      <th>2015-02-01 02:00:00+00:00</th>\n",
       "      <td>2</td>\n",
       "      <td>5983.0</td>\n",
       "      <td>6019.0</td>\n",
       "      <td>24.0</td>\n",
       "      <td>0.0</td>\n",
       "      <td>89.0</td>\n",
       "      <td>Sunday</td>\n",
       "      <td>2</td>\n",
       "      <td>February</td>\n",
       "      <td>6126.0</td>\n",
       "      <td>6241.0</td>\n",
       "      <td>6967.625000</td>\n",
       "    </tr>\n",
       "    <tr>\n",
       "      <th>2015-02-01 03:00:00+00:00</th>\n",
       "      <td>3</td>\n",
       "      <td>5966.0</td>\n",
       "      <td>6027.0</td>\n",
       "      <td>24.0</td>\n",
       "      <td>0.0</td>\n",
       "      <td>56.0</td>\n",
       "      <td>Sunday</td>\n",
       "      <td>3</td>\n",
       "      <td>February</td>\n",
       "      <td>5983.0</td>\n",
       "      <td>6241.0</td>\n",
       "      <td>6967.625000</td>\n",
       "    </tr>\n",
       "    <tr>\n",
       "      <th>2015-02-01 04:00:00+00:00</th>\n",
       "      <td>4</td>\n",
       "      <td>6004.0</td>\n",
       "      <td>6247.0</td>\n",
       "      <td>24.0</td>\n",
       "      <td>0.0</td>\n",
       "      <td>56.0</td>\n",
       "      <td>Sunday</td>\n",
       "      <td>4</td>\n",
       "      <td>February</td>\n",
       "      <td>5966.0</td>\n",
       "      <td>6241.0</td>\n",
       "      <td>6967.625000</td>\n",
       "    </tr>\n",
       "    <tr>\n",
       "      <th>...</th>\n",
       "      <td>...</td>\n",
       "      <td>...</td>\n",
       "      <td>...</td>\n",
       "      <td>...</td>\n",
       "      <td>...</td>\n",
       "      <td>...</td>\n",
       "      <td>...</td>\n",
       "      <td>...</td>\n",
       "      <td>...</td>\n",
       "      <td>...</td>\n",
       "      <td>...</td>\n",
       "      <td>...</td>\n",
       "    </tr>\n",
       "    <tr>\n",
       "      <th>2018-09-30 19:00:00+00:00</th>\n",
       "      <td>32107</td>\n",
       "      <td>6073.0</td>\n",
       "      <td>5774.0</td>\n",
       "      <td>60.0</td>\n",
       "      <td>0.0</td>\n",
       "      <td>1674.0</td>\n",
       "      <td>Sunday</td>\n",
       "      <td>19</td>\n",
       "      <td>September</td>\n",
       "      <td>6533.0</td>\n",
       "      <td>6156.0</td>\n",
       "      <td>5715.500000</td>\n",
       "    </tr>\n",
       "    <tr>\n",
       "      <th>2018-09-30 20:00:00+00:00</th>\n",
       "      <td>32108</td>\n",
       "      <td>6091.0</td>\n",
       "      <td>5712.0</td>\n",
       "      <td>58.0</td>\n",
       "      <td>0.0</td>\n",
       "      <td>1773.0</td>\n",
       "      <td>Sunday</td>\n",
       "      <td>20</td>\n",
       "      <td>September</td>\n",
       "      <td>6073.0</td>\n",
       "      <td>6033.0</td>\n",
       "      <td>5717.916667</td>\n",
       "    </tr>\n",
       "    <tr>\n",
       "      <th>2018-09-30 21:00:00+00:00</th>\n",
       "      <td>32109</td>\n",
       "      <td>5705.0</td>\n",
       "      <td>5355.0</td>\n",
       "      <td>50.0</td>\n",
       "      <td>0.0</td>\n",
       "      <td>1829.0</td>\n",
       "      <td>Sunday</td>\n",
       "      <td>21</td>\n",
       "      <td>September</td>\n",
       "      <td>6091.0</td>\n",
       "      <td>5612.0</td>\n",
       "      <td>5721.791667</td>\n",
       "    </tr>\n",
       "    <tr>\n",
       "      <th>2018-09-30 22:00:00+00:00</th>\n",
       "      <td>32110</td>\n",
       "      <td>5486.0</td>\n",
       "      <td>5509.0</td>\n",
       "      <td>43.0</td>\n",
       "      <td>0.0</td>\n",
       "      <td>1784.0</td>\n",
       "      <td>Sunday</td>\n",
       "      <td>22</td>\n",
       "      <td>September</td>\n",
       "      <td>5705.0</td>\n",
       "      <td>5320.0</td>\n",
       "      <td>5728.708333</td>\n",
       "    </tr>\n",
       "    <tr>\n",
       "      <th>2018-09-30 23:00:00+00:00</th>\n",
       "      <td>32111</td>\n",
       "      <td>5260.0</td>\n",
       "      <td>5247.0</td>\n",
       "      <td>41.0</td>\n",
       "      <td>0.0</td>\n",
       "      <td>1736.0</td>\n",
       "      <td>Sunday</td>\n",
       "      <td>23</td>\n",
       "      <td>September</td>\n",
       "      <td>5486.0</td>\n",
       "      <td>5015.0</td>\n",
       "      <td>5738.916667</td>\n",
       "    </tr>\n",
       "  </tbody>\n",
       "</table>\n",
       "<p>32112 rows × 12 columns</p>\n",
       "</div>"
      ],
      "text/plain": [
       "                           Unnamed: 0  load_actual  load_forecast  price  \\\n",
       "utc_timestamp                                                              \n",
       "2015-02-01 00:00:00+00:00           0       6241.0         6186.0   25.0   \n",
       "2015-02-01 01:00:00+00:00           1       6126.0         6111.0   24.0   \n",
       "2015-02-01 02:00:00+00:00           2       5983.0         6019.0   24.0   \n",
       "2015-02-01 03:00:00+00:00           3       5966.0         6027.0   24.0   \n",
       "2015-02-01 04:00:00+00:00           4       6004.0         6247.0   24.0   \n",
       "...                               ...          ...            ...    ...   \n",
       "2018-09-30 19:00:00+00:00       32107       6073.0         5774.0   60.0   \n",
       "2018-09-30 20:00:00+00:00       32108       6091.0         5712.0   58.0   \n",
       "2018-09-30 21:00:00+00:00       32109       5705.0         5355.0   50.0   \n",
       "2018-09-30 22:00:00+00:00       32110       5486.0         5509.0   43.0   \n",
       "2018-09-30 23:00:00+00:00       32111       5260.0         5247.0   41.0   \n",
       "\n",
       "                           solar_generation  Wind_generation Weekday  Hour  \\\n",
       "utc_timestamp                                                                \n",
       "2015-02-01 00:00:00+00:00               0.0            131.0  Sunday     0   \n",
       "2015-02-01 01:00:00+00:00               0.0            119.0  Sunday     1   \n",
       "2015-02-01 02:00:00+00:00               0.0             89.0  Sunday     2   \n",
       "2015-02-01 03:00:00+00:00               0.0             56.0  Sunday     3   \n",
       "2015-02-01 04:00:00+00:00               0.0             56.0  Sunday     4   \n",
       "...                                     ...              ...     ...   ...   \n",
       "2018-09-30 19:00:00+00:00               0.0           1674.0  Sunday    19   \n",
       "2018-09-30 20:00:00+00:00               0.0           1773.0  Sunday    20   \n",
       "2018-09-30 21:00:00+00:00               0.0           1829.0  Sunday    21   \n",
       "2018-09-30 22:00:00+00:00               0.0           1784.0  Sunday    22   \n",
       "2018-09-30 23:00:00+00:00               0.0           1736.0  Sunday    23   \n",
       "\n",
       "                               Month  load_t-1  load_t-24  load_rolling_24h  \n",
       "utc_timestamp                                                                \n",
       "2015-02-01 00:00:00+00:00   February    6241.0     6241.0       6967.625000  \n",
       "2015-02-01 01:00:00+00:00   February    6241.0     6241.0       6967.625000  \n",
       "2015-02-01 02:00:00+00:00   February    6126.0     6241.0       6967.625000  \n",
       "2015-02-01 03:00:00+00:00   February    5983.0     6241.0       6967.625000  \n",
       "2015-02-01 04:00:00+00:00   February    5966.0     6241.0       6967.625000  \n",
       "...                              ...       ...        ...               ...  \n",
       "2018-09-30 19:00:00+00:00  September    6533.0     6156.0       5715.500000  \n",
       "2018-09-30 20:00:00+00:00  September    6073.0     6033.0       5717.916667  \n",
       "2018-09-30 21:00:00+00:00  September    6091.0     5612.0       5721.791667  \n",
       "2018-09-30 22:00:00+00:00  September    5705.0     5320.0       5728.708333  \n",
       "2018-09-30 23:00:00+00:00  September    5486.0     5015.0       5738.916667  \n",
       "\n",
       "[32112 rows x 12 columns]"
      ]
     },
     "execution_count": 81,
     "metadata": {},
     "output_type": "execute_result"
    }
   ],
   "source": [
    "austria_df = pd.read_csv(f'../data/Processed/time_series_processed_2.csv')\n",
    "austria_df.set_index('utc_timestamp')"
   ]
  },
  {
   "cell_type": "code",
   "execution_count": 82,
   "id": "68ae3bc2",
   "metadata": {},
   "outputs": [],
   "source": [
    "austria_df.drop(columns=\"Unnamed: 0\", inplace= True)"
   ]
  },
  {
   "cell_type": "code",
   "execution_count": 83,
   "id": "d8a15745",
   "metadata": {},
   "outputs": [
    {
     "name": "stdout",
     "output_type": "stream",
     "text": [
      "<class 'pandas.core.frame.DataFrame'>\n",
      "RangeIndex: 32112 entries, 0 to 32111\n",
      "Data columns (total 12 columns):\n",
      " #   Column            Non-Null Count  Dtype  \n",
      "---  ------            --------------  -----  \n",
      " 0   utc_timestamp     32112 non-null  object \n",
      " 1   load_actual       32112 non-null  float64\n",
      " 2   load_forecast     32112 non-null  float64\n",
      " 3   price             32112 non-null  float64\n",
      " 4   solar_generation  32112 non-null  float64\n",
      " 5   Wind_generation   32112 non-null  float64\n",
      " 6   Weekday           32112 non-null  object \n",
      " 7   Hour              32112 non-null  int64  \n",
      " 8   Month             32112 non-null  object \n",
      " 9   load_t-1          32112 non-null  float64\n",
      " 10  load_t-24         32112 non-null  float64\n",
      " 11  load_rolling_24h  32112 non-null  float64\n",
      "dtypes: float64(8), int64(1), object(3)\n",
      "memory usage: 2.9+ MB\n"
     ]
    }
   ],
   "source": [
    "austria_df.info()"
   ]
  },
  {
   "cell_type": "markdown",
   "id": "fadbf219",
   "metadata": {},
   "source": [
    "### Converting the Weekdays and month"
   ]
  },
  {
   "cell_type": "code",
   "execution_count": 84,
   "id": "f33561bf",
   "metadata": {},
   "outputs": [],
   "source": [
    "weekday_map = {\n",
    "    'Monday': 0,\n",
    "    'Tuesday': 1,\n",
    "    'Wednesday': 2,\n",
    "    'Thursday': 3,\n",
    "    'Friday': 4,\n",
    "    'Saturday': 5,\n",
    "    'Sunday': 6\n",
    "}\n",
    "\n",
    "austria_df['Weekday'] = austria_df['Weekday'].map(weekday_map)"
   ]
  },
  {
   "cell_type": "code",
   "execution_count": 85,
   "id": "6447bfb4",
   "metadata": {},
   "outputs": [],
   "source": [
    "Monthly_map = {\n",
    "    'January': 0,\n",
    "    'February': 1,\n",
    "    'March': 2,\n",
    "    'April': 3,\n",
    "    'May': 4,\n",
    "    'June': 5,\n",
    "    'July': 6,\n",
    "    'August': 7,\n",
    "    'September': 8,\n",
    "    'October': 9,\n",
    "    'November': 10,\n",
    "    'December': 11,\n",
    "}\n",
    "\n",
    "austria_df['Month'] = austria_df['Month'].map(Monthly_map)"
   ]
  },
  {
   "cell_type": "code",
   "execution_count": 86,
   "id": "94253e54",
   "metadata": {},
   "outputs": [
    {
     "data": {
      "text/plain": [
       "\"\\nAn alternative method to create some feature but we are not using it.\\n\\naustria_df = pd.get_dummies(austria_df, columns=['Weekday'], drop_first=True)\\naustria_df = pd.get_dummies(austria_df, columns=['Month'], drop_first=True)\\n\\nfeatures = [\\n    'load_forecast', 'solar_generation', 'Wind_generation',\\n    'Hour', 'load_t-1', 'load_t-24', 'load_rolling_24h'\\n] + [col for col in austria_df.columns if col.startswith('Weekday_') or col.startswith('Month_')] \""
      ]
     },
     "execution_count": 86,
     "metadata": {},
     "output_type": "execute_result"
    }
   ],
   "source": [
    "'''\n",
    "An alternative method to create some feature but we are not using it.\n",
    "\n",
    "austria_df = pd.get_dummies(austria_df, columns=['Weekday'], drop_first=True)\n",
    "austria_df = pd.get_dummies(austria_df, columns=['Month'], drop_first=True)\n",
    "\n",
    "features = [\n",
    "    'load_forecast', 'solar_generation', 'Wind_generation',\n",
    "    'Hour', 'load_t-1', 'load_t-24', 'load_rolling_24h'\n",
    "] + [col for col in austria_df.columns if col.startswith('Weekday_') or col.startswith('Month_')] '''"
   ]
  },
  {
   "cell_type": "code",
   "execution_count": 87,
   "id": "04682233",
   "metadata": {},
   "outputs": [
    {
     "name": "stdout",
     "output_type": "stream",
     "text": [
      "<class 'pandas.core.frame.DataFrame'>\n",
      "RangeIndex: 32112 entries, 0 to 32111\n",
      "Data columns (total 12 columns):\n",
      " #   Column            Non-Null Count  Dtype  \n",
      "---  ------            --------------  -----  \n",
      " 0   utc_timestamp     32112 non-null  object \n",
      " 1   load_actual       32112 non-null  float64\n",
      " 2   load_forecast     32112 non-null  float64\n",
      " 3   price             32112 non-null  float64\n",
      " 4   solar_generation  32112 non-null  float64\n",
      " 5   Wind_generation   32112 non-null  float64\n",
      " 6   Weekday           32112 non-null  int64  \n",
      " 7   Hour              32112 non-null  int64  \n",
      " 8   Month             32112 non-null  int64  \n",
      " 9   load_t-1          32112 non-null  float64\n",
      " 10  load_t-24         32112 non-null  float64\n",
      " 11  load_rolling_24h  32112 non-null  float64\n",
      "dtypes: float64(8), int64(3), object(1)\n",
      "memory usage: 2.9+ MB\n"
     ]
    }
   ],
   "source": [
    "austria_df.info()"
   ]
  },
  {
   "cell_type": "markdown",
   "id": "53c5ba74",
   "metadata": {},
   "source": [
    "### Spliting data for train and test"
   ]
  },
  {
   "cell_type": "code",
   "execution_count": 88,
   "id": "b6cc282b",
   "metadata": {},
   "outputs": [],
   "source": [
    "# Training set 2015 and 2016\n",
    "train_df = austria_df.loc['2015-02-01':'2017-06-31']\n",
    "\n",
    "# Testing set 2017\n",
    "test_df = austria_df.loc['2016-07-01':'2018-09-30']"
   ]
  },
  {
   "cell_type": "code",
   "execution_count": 89,
   "id": "74a52b3d",
   "metadata": {},
   "outputs": [],
   "source": [
    "# Features\n",
    "target = 'price'\n",
    "features = [\n",
    "    'load_forecast', 'solar_generation', 'Wind_generation',\n",
    "    'Hour', 'Month', 'load_t-1', 'load_t-24', 'load_rolling_24h','Weekday']\n",
    "\n",
    "# Train\n",
    "X_train = train_df[features]\n",
    "y_train = train_df[target]\n",
    "\n",
    "# Test\n",
    "X_test = test_df[features]\n",
    "y_test = test_df[target]"
   ]
  },
  {
   "cell_type": "markdown",
   "id": "24b29966",
   "metadata": {},
   "source": [
    "### Gradiant Boost Regressor"
   ]
  },
  {
   "cell_type": "code",
   "execution_count": 90,
   "id": "851ec10f",
   "metadata": {},
   "outputs": [
    {
     "data": {
      "text/html": [
       "<style>#sk-container-id-6 {color: black;background-color: white;}#sk-container-id-6 pre{padding: 0;}#sk-container-id-6 div.sk-toggleable {background-color: white;}#sk-container-id-6 label.sk-toggleable__label {cursor: pointer;display: block;width: 100%;margin-bottom: 0;padding: 0.3em;box-sizing: border-box;text-align: center;}#sk-container-id-6 label.sk-toggleable__label-arrow:before {content: \"▸\";float: left;margin-right: 0.25em;color: #696969;}#sk-container-id-6 label.sk-toggleable__label-arrow:hover:before {color: black;}#sk-container-id-6 div.sk-estimator:hover label.sk-toggleable__label-arrow:before {color: black;}#sk-container-id-6 div.sk-toggleable__content {max-height: 0;max-width: 0;overflow: hidden;text-align: left;background-color: #f0f8ff;}#sk-container-id-6 div.sk-toggleable__content pre {margin: 0.2em;color: black;border-radius: 0.25em;background-color: #f0f8ff;}#sk-container-id-6 input.sk-toggleable__control:checked~div.sk-toggleable__content {max-height: 200px;max-width: 100%;overflow: auto;}#sk-container-id-6 input.sk-toggleable__control:checked~label.sk-toggleable__label-arrow:before {content: \"▾\";}#sk-container-id-6 div.sk-estimator input.sk-toggleable__control:checked~label.sk-toggleable__label {background-color: #d4ebff;}#sk-container-id-6 div.sk-label input.sk-toggleable__control:checked~label.sk-toggleable__label {background-color: #d4ebff;}#sk-container-id-6 input.sk-hidden--visually {border: 0;clip: rect(1px 1px 1px 1px);clip: rect(1px, 1px, 1px, 1px);height: 1px;margin: -1px;overflow: hidden;padding: 0;position: absolute;width: 1px;}#sk-container-id-6 div.sk-estimator {font-family: monospace;background-color: #f0f8ff;border: 1px dotted black;border-radius: 0.25em;box-sizing: border-box;margin-bottom: 0.5em;}#sk-container-id-6 div.sk-estimator:hover {background-color: #d4ebff;}#sk-container-id-6 div.sk-parallel-item::after {content: \"\";width: 100%;border-bottom: 1px solid gray;flex-grow: 1;}#sk-container-id-6 div.sk-label:hover label.sk-toggleable__label {background-color: #d4ebff;}#sk-container-id-6 div.sk-serial::before {content: \"\";position: absolute;border-left: 1px solid gray;box-sizing: border-box;top: 0;bottom: 0;left: 50%;z-index: 0;}#sk-container-id-6 div.sk-serial {display: flex;flex-direction: column;align-items: center;background-color: white;padding-right: 0.2em;padding-left: 0.2em;position: relative;}#sk-container-id-6 div.sk-item {position: relative;z-index: 1;}#sk-container-id-6 div.sk-parallel {display: flex;align-items: stretch;justify-content: center;background-color: white;position: relative;}#sk-container-id-6 div.sk-item::before, #sk-container-id-6 div.sk-parallel-item::before {content: \"\";position: absolute;border-left: 1px solid gray;box-sizing: border-box;top: 0;bottom: 0;left: 50%;z-index: -1;}#sk-container-id-6 div.sk-parallel-item {display: flex;flex-direction: column;z-index: 1;position: relative;background-color: white;}#sk-container-id-6 div.sk-parallel-item:first-child::after {align-self: flex-end;width: 50%;}#sk-container-id-6 div.sk-parallel-item:last-child::after {align-self: flex-start;width: 50%;}#sk-container-id-6 div.sk-parallel-item:only-child::after {width: 0;}#sk-container-id-6 div.sk-dashed-wrapped {border: 1px dashed gray;margin: 0 0.4em 0.5em 0.4em;box-sizing: border-box;padding-bottom: 0.4em;background-color: white;}#sk-container-id-6 div.sk-label label {font-family: monospace;font-weight: bold;display: inline-block;line-height: 1.2em;}#sk-container-id-6 div.sk-label-container {text-align: center;}#sk-container-id-6 div.sk-container {/* jupyter's `normalize.less` sets `[hidden] { display: none; }` but bootstrap.min.css set `[hidden] { display: none !important; }` so we also need the `!important` here to be able to override the default hidden behavior on the sphinx rendered scikit-learn.org. See: https://github.com/scikit-learn/scikit-learn/issues/21755 */display: inline-block !important;position: relative;}#sk-container-id-6 div.sk-text-repr-fallback {display: none;}</style><div id=\"sk-container-id-6\" class=\"sk-top-container\"><div class=\"sk-text-repr-fallback\"><pre>GradientBoostingRegressor(learning_rate=0.02, max_depth=5, n_estimators=200,\n",
       "                          random_state=42)</pre><b>In a Jupyter environment, please rerun this cell to show the HTML representation or trust the notebook. <br />On GitHub, the HTML representation is unable to render, please try loading this page with nbviewer.org.</b></div><div class=\"sk-container\" hidden><div class=\"sk-item\"><div class=\"sk-estimator sk-toggleable\"><input class=\"sk-toggleable__control sk-hidden--visually\" id=\"sk-estimator-id-6\" type=\"checkbox\" checked><label for=\"sk-estimator-id-6\" class=\"sk-toggleable__label sk-toggleable__label-arrow\">GradientBoostingRegressor</label><div class=\"sk-toggleable__content\"><pre>GradientBoostingRegressor(learning_rate=0.02, max_depth=5, n_estimators=200,\n",
       "                          random_state=42)</pre></div></div></div></div></div>"
      ],
      "text/plain": [
       "GradientBoostingRegressor(learning_rate=0.02, max_depth=5, n_estimators=200,\n",
       "                          random_state=42)"
      ]
     },
     "execution_count": 90,
     "metadata": {},
     "output_type": "execute_result"
    }
   ],
   "source": [
    "# Initiating the model\n",
    "simple_gbr = GradientBoostingRegressor(n_estimators=200, learning_rate=0.02, max_depth=5, random_state=42)\n",
    "\n",
    "# Fit\n",
    "simple_gbr.fit(X_train, y_train)"
   ]
  },
  {
   "cell_type": "code",
   "execution_count": 91,
   "id": "450a7137",
   "metadata": {},
   "outputs": [
    {
     "name": "stdout",
     "output_type": "stream",
     "text": [
      "RMSE: 2.290321523351232\n",
      "R2S: 0.8463961147781578\n"
     ]
    }
   ],
   "source": [
    "# Prediction the test data\n",
    "y_pred = simple_gbr.predict(X_test)\n",
    "\n",
    "# Creating the performance metrix\n",
    "print(\"RMSE:\", np.sqrt(mean_squared_error(y_test, y_pred)))\n",
    "print(\"R2S:\", r2_score(y_test, y_pred))"
   ]
  },
  {
   "cell_type": "code",
   "execution_count": 92,
   "id": "fadfe20a",
   "metadata": {},
   "outputs": [
    {
     "name": "stdout",
     "output_type": "stream",
     "text": [
      "count    32112.000000\n",
      "mean        33.988883\n",
      "std         14.888293\n",
      "min        -76.000000\n",
      "25%         25.000000\n",
      "50%         33.000000\n",
      "75%         42.000000\n",
      "max        143.000000\n",
      "Name: price, dtype: float64\n"
     ]
    }
   ],
   "source": [
    "### Checking why error is high\n",
    "print(austria_df['price'].describe())"
   ]
  },
  {
   "cell_type": "markdown",
   "id": "9fe0b248",
   "metadata": {},
   "source": [
    "### Using Grid search for futurther improving the Model \n",
    "using 'n_estimators': [100, 200, 300], 'max_depth': [3, 5, 7] and 'learning_rate': [0.01, 0.1, 0.2]"
   ]
  },
  {
   "cell_type": "code",
   "execution_count": null,
   "id": "ba71d1aa",
   "metadata": {},
   "outputs": [],
   "source": [
    "from sklearn.model_selection import GridSearchCV\n",
    "\n"
   ]
  }
 ],
 "metadata": {
  "kernelspec": {
   "display_name": "base",
   "language": "python",
   "name": "python3"
  },
  "language_info": {
   "codemirror_mode": {
    "name": "ipython",
    "version": 3
   },
   "file_extension": ".py",
   "mimetype": "text/x-python",
   "name": "python",
   "nbconvert_exporter": "python",
   "pygments_lexer": "ipython3",
   "version": "3.11.7"
  }
 },
 "nbformat": 4,
 "nbformat_minor": 5
}
